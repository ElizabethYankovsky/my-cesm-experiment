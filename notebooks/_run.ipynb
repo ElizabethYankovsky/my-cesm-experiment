{
 "cells": [
  {
   "cell_type": "markdown",
   "id": "77b2cc42-458e-4905-8756-37c6b93b711d",
   "metadata": {},
   "source": [
    "# Run notebooks"
   ]
  },
  {
   "cell_type": "code",
   "execution_count": 1,
   "id": "00bbf9f6-2eaf-4be7-81dc-fa143eb5f082",
   "metadata": {},
   "outputs": [],
   "source": [
    "%load_ext autoreload\n",
    "%autoreload 2"
   ]
  },
  {
   "cell_type": "code",
   "execution_count": 2,
   "id": "40a88a54-c7a7-44fc-b9ff-f931e42ac421",
   "metadata": {},
   "outputs": [
    {
     "name": "stderr",
     "output_type": "stream",
     "text": [
      "/glade/work/mclong/miniconda3/envs/cesm-exp/lib/python3.7/site-packages/dask_jobqueue/core.py:20: FutureWarning: tmpfile is deprecated and will be removed in a future release. Please use dask.utils.tmpfile instead.\n",
      "  from distributed.utils import tmpfile\n"
     ]
    }
   ],
   "source": [
    "import os\n",
    "from glob import glob\n",
    "\n",
    "import papermill as pm\n",
    "\n",
    "import util"
   ]
  },
  {
   "cell_type": "markdown",
   "id": "7f4ce131-6c97-4027-9bfa-81ce9fb3750c",
   "metadata": {},
   "source": [
    "## Get control structure"
   ]
  },
  {
   "cell_type": "code",
   "execution_count": 3,
   "id": "8d2c274e-a576-4f18-8a04-f24631c54508",
   "metadata": {},
   "outputs": [
    {
     "data": {
      "text/plain": [
       "{'output_dir': './_computed-notebooks',\n",
       " 'project': 'NCGD0011',\n",
       " 'data_sources': {'casename': 'smyle-fosi.regional.lat-range-basin.000'},\n",
       " 'book_toc': {'format': 'jb-book',\n",
       "  'root': 'description',\n",
       "  'parts': [{'caption': 'Ocean Carbon Cycle',\n",
       "    'chapters': [{'file': 'ocn-fgco2'}]},\n",
       "   {'caption': 'Ocean Tracers',\n",
       "    'chapters': [{'file': 'intro-ocn-tracer-views',\n",
       "      'sections': [{'glob': 'ocn-tracer-views*'}]}]}]},\n",
       " 'book_config_keys': {'title': 'My CESM Experiment',\n",
       "  'repository': {'url': 'https://github.com/matt-long/my-cesm-experiment',\n",
       "   'path_to_book': 'notebooks',\n",
       "   'branch': 'main'}},\n",
       " 'compute_notebooks': {'description': {'use_cluster': False,\n",
       "   'parameter_groups': {'none': {'casename': 'smyle-fosi.regional.lat-range-basin.000'}},\n",
       "   'kernel_name': 'cesm-exp'},\n",
       "  'ocn-fgco2': {'use_cluster': True,\n",
       "   'parameter_groups': {'none': {'casename': 'smyle-fosi.regional.lat-range-basin.000',\n",
       "     'component': 'pop',\n",
       "     'stream': 'h'}},\n",
       "   'kernel_name': 'cesm-exp'},\n",
       "  'ocn-tracer-views': {'use_cluster': True,\n",
       "   'kernel_name': 'cesm-exp',\n",
       "   'default_params': {'casename': 'smyle-fosi.regional.lat-range-basin.000',\n",
       "    'component': 'pop',\n",
       "    'stream': 'h'},\n",
       "   'parameter_groups': {'temperature': {'variable_id': 'TEMP'},\n",
       "    'salinity': {'variable_id': 'SALT'},\n",
       "    'oxygen': {'variable_id': 'O2'}}}}}"
      ]
     },
     "execution_count": 3,
     "metadata": {},
     "output_type": "execute_result"
    }
   ],
   "source": [
    "control = util.get_control_dict()\n",
    "control"
   ]
  },
  {
   "cell_type": "code",
   "execution_count": 4,
   "id": "8ed14b40-bcb0-4f53-93aa-d69e42afbf4b",
   "metadata": {},
   "outputs": [],
   "source": [
    "util.setup_book()"
   ]
  },
  {
   "cell_type": "markdown",
   "id": "86890966-42e8-4e7f-bd10-7ee6bdf1c8af",
   "metadata": {},
   "source": [
    "## Spin up a cluster\n",
    "\n",
    "The notebooks are configured to connect to this cluster."
   ]
  },
  {
   "cell_type": "code",
   "execution_count": 5,
   "id": "39493531-8a14-4948-ae1c-4658d5c20ab2",
   "metadata": {},
   "outputs": [
    {
     "data": {
      "application/vnd.jupyter.widget-view+json": {
       "model_id": "5edd74f521c94b65affb21e6c27a4b6a",
       "version_major": 2,
       "version_minor": 0
      },
      "text/plain": [
       "Tab(children=(HTML(value='<div class=\"jp-RenderedHTMLCommon jp-RenderedHTML jp-mod-trusted jp-OutputArea-outpu…"
      ]
     },
     "metadata": {},
     "output_type": "display_data"
    }
   ],
   "source": [
    "cluster = util.get_Cluster(project=control['project'])\n",
    "cluster.scale(32)\n",
    "cluster"
   ]
  },
  {
   "cell_type": "markdown",
   "id": "cc0a4cb9-49a2-4844-a2ad-5247ad5cfa41",
   "metadata": {},
   "source": [
    "## Run all the notebooks"
   ]
  },
  {
   "cell_type": "code",
   "execution_count": 6,
   "id": "58d70fc0-9429-434e-a6a8-31c67e429a9e",
   "metadata": {},
   "outputs": [
    {
     "name": "stdout",
     "output_type": "stream",
     "text": [
      "executing description.ipynb\n"
     ]
    },
    {
     "data": {
      "application/vnd.jupyter.widget-view+json": {
       "model_id": "5f8f5494a6fd4d6ba6fca6ef4e521a1e",
       "version_major": 2,
       "version_minor": 0
      },
      "text/plain": [
       "Executing:   0%|          | 0/2 [00:00<?, ?cell/s]"
      ]
     },
     "metadata": {},
     "output_type": "display_data"
    },
    {
     "name": "stdout",
     "output_type": "stream",
     "text": [
      "executing ocn-fgco2.ipynb\n"
     ]
    },
    {
     "data": {
      "application/vnd.jupyter.widget-view+json": {
       "model_id": "d854980599aa49f3933963fa9ce0419e",
       "version_major": 2,
       "version_minor": 0
      },
      "text/plain": [
       "Executing:   0%|          | 0/15 [00:00<?, ?cell/s]"
      ]
     },
     "metadata": {},
     "output_type": "display_data"
    },
    {
     "name": "stdout",
     "output_type": "stream",
     "text": [
      "executing ocn-tracer-views.ipynb\n"
     ]
    },
    {
     "data": {
      "application/vnd.jupyter.widget-view+json": {
       "model_id": "a19e1cf82cb246ba9d7acac121784350",
       "version_major": 2,
       "version_minor": 0
      },
      "text/plain": [
       "Executing:   0%|          | 0/15 [00:00<?, ?cell/s]"
      ]
     },
     "metadata": {},
     "output_type": "display_data"
    },
    {
     "name": "stdout",
     "output_type": "stream",
     "text": [
      "executing ocn-tracer-views.ipynb\n"
     ]
    },
    {
     "data": {
      "application/vnd.jupyter.widget-view+json": {
       "model_id": "3ab0096fd77645e0a620b7f4efa0f93a",
       "version_major": 2,
       "version_minor": 0
      },
      "text/plain": [
       "Executing:   0%|          | 0/15 [00:00<?, ?cell/s]"
      ]
     },
     "metadata": {},
     "output_type": "display_data"
    },
    {
     "name": "stdout",
     "output_type": "stream",
     "text": [
      "executing ocn-tracer-views.ipynb\n"
     ]
    },
    {
     "data": {
      "application/vnd.jupyter.widget-view+json": {
       "model_id": "7fc1bac426b44cda81106405542a76e2",
       "version_major": 2,
       "version_minor": 0
      },
      "text/plain": [
       "Executing:   0%|          | 0/15 [00:00<?, ?cell/s]"
      ]
     },
     "metadata": {},
     "output_type": "display_data"
    }
   ],
   "source": [
    "output_dir = control['output_dir']\n",
    "\n",
    "for nb, info in control['compute_notebooks'].items():\n",
    "    \n",
    "    parameter_groups = info['parameter_groups']\n",
    "    use_cluster = info['use_cluster']\n",
    "    \n",
    "    default_params = {}\n",
    "    if 'default_params' in info:\n",
    "        default_params = info['default_params']\n",
    "\n",
    "    for key, parms in parameter_groups.items():\n",
    "\n",
    "        input_path = f'{nb}.ipynb'\n",
    "        output_path = (\n",
    "            f'{output_dir}/{nb}-{key}.ipynb'\n",
    "            if key != 'none' else f'{output_dir}/{nb}.ipynb'\n",
    "        )\n",
    "\n",
    "        # check notebook expectations\n",
    "        nb_api = pm.inspect_notebook(input_path)\n",
    "        \n",
    "        # TODO: validate paramter and API\n",
    "\n",
    "        if nb_api:\n",
    "            parms_in = dict(**default_params)\n",
    "            parms_in.update(dict(**parms))\n",
    "            parms_in['cluster_scheduler_address'] = cluster.scheduler_address\n",
    "        else:\n",
    "            parms_in = {}\n",
    "\n",
    "        print(f'executing {input_path}')\n",
    "        o = pm.execute_notebook(\n",
    "            input_path=input_path,\n",
    "            output_path=output_path,\n",
    "            kernel_name=info['kernel_name'],\n",
    "            parameters=parms_in,\n",
    "            engine_name='md_jinja',\n",
    "            jinja_data=parms,\n",
    "        )"
   ]
  },
  {
   "cell_type": "code",
   "execution_count": 8,
   "id": "fc7536f7-d86a-4f6b-996c-78a8ffb86eb9",
   "metadata": {},
   "outputs": [],
   "source": [
    "cluster.close()"
   ]
  },
  {
   "cell_type": "code",
   "execution_count": null,
   "id": "2953eb85-27e2-41d9-97ef-33af90c6a3c3",
   "metadata": {},
   "outputs": [],
   "source": []
  }
 ],
 "metadata": {
  "kernelspec": {
   "display_name": "Python [conda env:miniconda3-cesm-exp]",
   "language": "python",
   "name": "conda-env-miniconda3-cesm-exp-py"
  },
  "language_info": {
   "codemirror_mode": {
    "name": "ipython",
    "version": 3
   },
   "file_extension": ".py",
   "mimetype": "text/x-python",
   "name": "python",
   "nbconvert_exporter": "python",
   "pygments_lexer": "ipython3",
   "version": "3.7.12"
  }
 },
 "nbformat": 4,
 "nbformat_minor": 5
}
