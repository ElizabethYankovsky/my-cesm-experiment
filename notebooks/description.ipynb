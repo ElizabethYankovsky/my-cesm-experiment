{
 "cells": [
  {
   "cell_type": "markdown",
   "id": "132235c8-0790-49e4-bf44-d0fc4ace4e26",
   "metadata": {},
   "source": [
    "# My CESM Experiment\n",
    "\n",
    "This is a minimum working example showing how to construct a [Jupyter Book](https://jupyterbook.org/en/stable/intro.html) from a collection of notebooks analyzing a [CESM](https://www.cesm.ucar.edu) integration.\n",
    "\n",
    "This book has been run on the following case(s):\n",
    "- {{casename}}"
   ]
  },
  {
   "cell_type": "code",
   "execution_count": null,
   "id": "5691095d-7b77-41e0-92e8-6d6184ecab70",
   "metadata": {},
   "outputs": [],
   "source": []
  }
 ],
 "metadata": {
  "kernelspec": {
   "display_name": "Python [conda env:miniconda3-_unison]",
   "language": "python",
   "name": "conda-env-miniconda3-_unison-py"
  },
  "language_info": {
   "codemirror_mode": {
    "name": "ipython",
    "version": 3
   },
   "file_extension": ".py",
   "mimetype": "text/x-python",
   "name": "python",
   "nbconvert_exporter": "python",
   "pygments_lexer": "ipython3",
   "version": "3.7.12"
  }
 },
 "nbformat": 4,
 "nbformat_minor": 5
}
