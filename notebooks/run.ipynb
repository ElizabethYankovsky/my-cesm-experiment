{
 "cells": [
  {
   "cell_type": "markdown",
   "id": "77b2cc42-458e-4905-8756-37c6b93b711d",
   "metadata": {},
   "source": [
    "# Run notebooks"
   ]
  },
  {
   "cell_type": "code",
   "execution_count": 1,
   "id": "00bbf9f6-2eaf-4be7-81dc-fa143eb5f082",
   "metadata": {},
   "outputs": [],
   "source": [
    "%load_ext autoreload\n",
    "%autoreload 2"
   ]
  },
  {
   "cell_type": "code",
   "execution_count": 9,
   "id": "40a88a54-c7a7-44fc-b9ff-f931e42ac421",
   "metadata": {},
   "outputs": [],
   "source": [
    "import os\n",
    "from glob import glob\n",
    "\n",
    "import papermill as pm\n",
    "\n",
    "import util"
   ]
  },
  {
   "cell_type": "markdown",
   "id": "7f4ce131-6c97-4027-9bfa-81ce9fb3750c",
   "metadata": {},
   "source": [
    "## Get control structure"
   ]
  },
  {
   "cell_type": "code",
   "execution_count": 39,
   "id": "8d2c274e-a576-4f18-8a04-f24631c54508",
   "metadata": {},
   "outputs": [
    {
     "data": {
      "text/plain": [
       "{'output_dir': './output',\n",
       " 'project': 'NCGD0011',\n",
       " 'casename': 'smyle-fosi.regional.lat-range-basin.000',\n",
       " 'notebooks': {'description': {'use_cluster': True,\n",
       "   'parameter_groups': {'none': {'casename': 'smyle-fosi.regional.lat-range-basin.000'}},\n",
       "   'kernel_name': '_unison'},\n",
       "  'ocn-fgco2': {'use_cluster': True,\n",
       "   'parameter_groups': {'none': {'component': 'pop', 'stream': 'h'}},\n",
       "   'kernel_name': '_unison'},\n",
       "  'ocn-tracer-views': {'use_cluster': True,\n",
       "   'kernel_name': 'onets',\n",
       "   'default_params': {'component': 'pop', 'stream': 'h'},\n",
       "   'parameter_groups': {'temperature': {'variable_id': 'TEMP'},\n",
       "    'salinity': {'variable_id': 'SALT'},\n",
       "    'oxygen': {'variable_id': 'O2'}}}}}"
      ]
     },
     "execution_count": 39,
     "metadata": {},
     "output_type": "execute_result"
    }
   ],
   "source": [
    "control = util.get_control_dict()\n",
    "control"
   ]
  },
  {
   "cell_type": "markdown",
   "id": "86890966-42e8-4e7f-bd10-7ee6bdf1c8af",
   "metadata": {},
   "source": [
    "## Spin up a cluster\n",
    "\n",
    "The notebooks are configured to connect to this cluster."
   ]
  },
  {
   "cell_type": "code",
   "execution_count": 2,
   "id": "39493531-8a14-4948-ae1c-4658d5c20ab2",
   "metadata": {},
   "outputs": [
    {
     "data": {
      "text/plain": [
       "'tcp://10.12.206.63:33643'"
      ]
     },
     "execution_count": 2,
     "metadata": {},
     "output_type": "execute_result"
    }
   ],
   "source": [
    "cluster = util.get_Cluster(project=control['project'])\n",
    "cluster.scale(32)\n",
    "cluster"
   ]
  },
  {
   "cell_type": "markdown",
   "id": "cc0a4cb9-49a2-4844-a2ad-5247ad5cfa41",
   "metadata": {},
   "source": [
    "## Run all the notebooks"
   ]
  },
  {
   "cell_type": "code",
   "execution_count": 16,
   "id": "58d70fc0-9429-434e-a6a8-31c67e429a9e",
   "metadata": {},
   "outputs": [
    {
     "data": {
      "application/vnd.jupyter.widget-view+json": {
       "model_id": "7dfb6a022ed84c8099d3558ff0fdd366",
       "version_major": 2,
       "version_minor": 0
      },
      "text/plain": [
       "Executing:   0%|          | 0/11 [00:00<?, ?cell/s]"
      ]
     },
     "metadata": {},
     "output_type": "display_data"
    },
    {
     "data": {
      "application/vnd.jupyter.widget-view+json": {
       "model_id": "ebf5a94f30284d06a9cddcc2b9b89278",
       "version_major": 2,
       "version_minor": 0
      },
      "text/plain": [
       "Executing:   0%|          | 0/11 [00:00<?, ?cell/s]"
      ]
     },
     "metadata": {},
     "output_type": "display_data"
    },
    {
     "data": {
      "application/vnd.jupyter.widget-view+json": {
       "model_id": "3bc419faad634796a7d2f03876e65450",
       "version_major": 2,
       "version_minor": 0
      },
      "text/plain": [
       "Executing:   0%|          | 0/11 [00:00<?, ?cell/s]"
      ]
     },
     "metadata": {},
     "output_type": "display_data"
    },
    {
     "data": {
      "application/vnd.jupyter.widget-view+json": {
       "model_id": "a38ba8dfa04b4e6a9696c2695c086215",
       "version_major": 2,
       "version_minor": 0
      },
      "text/plain": [
       "Executing:   0%|          | 0/11 [00:00<?, ?cell/s]"
      ]
     },
     "metadata": {},
     "output_type": "display_data"
    },
    {
     "ename": "PapermillExecutionError",
     "evalue": "\n---------------------------------------------------------------------------\nException encountered at \"In [2]\":\nTraceback (most recent call last):\n\n  File \"/glade/work/mclong/miniconda3/envs/onets/lib/python3.7/site-packages/IPython/core/interactiveshell.py\", line 3552, in run_code\n    exec(code_obj, self.user_global_ns, self.user_ns)\n\n  File \"/glade/scratch/mclong/tmp/ipykernel_282219/1400682730.py\", line 6, in <module>\n    import util\n\n  File \"/glade/u/home/mclong/codes/my-cesm-experiment/notebooks/util.py\", line 24\n    def get_Cluster(memory=\"25GB\", project=\"NCGD0011\", on_hub=True):\n      ^\nIndentationError: expected an indented block\n\n",
     "output_type": "error",
     "traceback": [
      "\u001b[0;31m---------------------------------------------------------------------------\u001b[0m",
      "\u001b[0;31mPapermillExecutionError\u001b[0m                   Traceback (most recent call last)",
      "\u001b[0;32m/glade/scratch/mclong/tmp/ipykernel_273899/2183489257.py\u001b[0m in \u001b[0;36m<module>\u001b[0;34m\u001b[0m\n\u001b[1;32m     26\u001b[0m             \u001b[0mparameters\u001b[0m\u001b[0;34m=\u001b[0m\u001b[0mparms_in\u001b[0m\u001b[0;34m,\u001b[0m\u001b[0;34m\u001b[0m\u001b[0;34m\u001b[0m\u001b[0m\n\u001b[1;32m     27\u001b[0m             \u001b[0mengine_name\u001b[0m\u001b[0;34m=\u001b[0m\u001b[0;34m'md_jinja'\u001b[0m\u001b[0;34m,\u001b[0m\u001b[0;34m\u001b[0m\u001b[0;34m\u001b[0m\u001b[0m\n\u001b[0;32m---> 28\u001b[0;31m             \u001b[0mjinja_data\u001b[0m\u001b[0;34m=\u001b[0m\u001b[0mparms\u001b[0m\u001b[0;34m,\u001b[0m\u001b[0;34m\u001b[0m\u001b[0;34m\u001b[0m\u001b[0m\n\u001b[0m\u001b[1;32m     29\u001b[0m         )\n",
      "\u001b[0;32m/glade/work/mclong/miniconda3/envs/_unison/lib/python3.7/site-packages/papermill/execute.py\u001b[0m in \u001b[0;36mexecute_notebook\u001b[0;34m(input_path, output_path, parameters, engine_name, request_save_on_cell_execute, prepare_only, kernel_name, language, progress_bar, log_output, stdout_file, stderr_file, start_timeout, report_mode, cwd, **engine_kwargs)\u001b[0m\n\u001b[1;32m    120\u001b[0m \u001b[0;34m\u001b[0m\u001b[0m\n\u001b[1;32m    121\u001b[0m             \u001b[0;31m# Check for errors first (it saves on error before raising)\u001b[0m\u001b[0;34m\u001b[0m\u001b[0;34m\u001b[0m\u001b[0;34m\u001b[0m\u001b[0m\n\u001b[0;32m--> 122\u001b[0;31m             \u001b[0mraise_for_execution_errors\u001b[0m\u001b[0;34m(\u001b[0m\u001b[0mnb\u001b[0m\u001b[0;34m,\u001b[0m \u001b[0moutput_path\u001b[0m\u001b[0;34m)\u001b[0m\u001b[0;34m\u001b[0m\u001b[0;34m\u001b[0m\u001b[0m\n\u001b[0m\u001b[1;32m    123\u001b[0m \u001b[0;34m\u001b[0m\u001b[0m\n\u001b[1;32m    124\u001b[0m         \u001b[0;31m# Write final output in case the engine didn't write it on cell completion.\u001b[0m\u001b[0;34m\u001b[0m\u001b[0;34m\u001b[0m\u001b[0;34m\u001b[0m\u001b[0m\n",
      "\u001b[0;32m/glade/work/mclong/miniconda3/envs/_unison/lib/python3.7/site-packages/papermill/execute.py\u001b[0m in \u001b[0;36mraise_for_execution_errors\u001b[0;34m(nb, output_path)\u001b[0m\n\u001b[1;32m    232\u001b[0m \u001b[0;34m\u001b[0m\u001b[0m\n\u001b[1;32m    233\u001b[0m         \u001b[0mwrite_ipynb\u001b[0m\u001b[0;34m(\u001b[0m\u001b[0mnb\u001b[0m\u001b[0;34m,\u001b[0m \u001b[0moutput_path\u001b[0m\u001b[0;34m)\u001b[0m\u001b[0;34m\u001b[0m\u001b[0;34m\u001b[0m\u001b[0m\n\u001b[0;32m--> 234\u001b[0;31m         \u001b[0;32mraise\u001b[0m \u001b[0merror\u001b[0m\u001b[0;34m\u001b[0m\u001b[0;34m\u001b[0m\u001b[0m\n\u001b[0m",
      "\u001b[0;31mPapermillExecutionError\u001b[0m: \n---------------------------------------------------------------------------\nException encountered at \"In [2]\":\nTraceback (most recent call last):\n\n  File \"/glade/work/mclong/miniconda3/envs/onets/lib/python3.7/site-packages/IPython/core/interactiveshell.py\", line 3552, in run_code\n    exec(code_obj, self.user_global_ns, self.user_ns)\n\n  File \"/glade/scratch/mclong/tmp/ipykernel_282219/1400682730.py\", line 6, in <module>\n    import util\n\n  File \"/glade/u/home/mclong/codes/my-cesm-experiment/notebooks/util.py\", line 24\n    def get_Cluster(memory=\"25GB\", project=\"NCGD0011\", on_hub=True):\n      ^\nIndentationError: expected an indented block\n\n"
     ]
    }
   ],
   "source": [
    "output_dir = control['output_dir']\n",
    "\n",
    "files = glob(f\"{output_dir}/*.ipynb\")\n",
    "for f in files:\n",
    "    os.remove(f)\n",
    "\n",
    "for nb, info in control['notebooks'].items():\n",
    "    parameter_groups = info['parameter_groups']\n",
    "    use_cluster = info['use_cluster']\n",
    "    for key, parms in parameter_groups.items():\n",
    "\n",
    "        input_path = f'{nb}.ipynb'\n",
    "        output_path = (\n",
    "            f'{output_dir}/{nb}-{key}.ipynb'\n",
    "            if key != 'none' else f'{output_dir}/{nb}.ipynb'\n",
    "        )\n",
    "\n",
    "        parms_in = dict(**parms)\n",
    "        if use_cluster:\n",
    "            parms_in['cluster_scheduler_address'] = cluster.scheduler_address\n",
    "\n",
    "        o = pm.execute_notebook(\n",
    "            input_path=input_path,\n",
    "            output_path=output_path,\n",
    "            kernel_name=info['kernel_name'],\n",
    "            parameters=parms_in,\n",
    "            engine_name='md_jinja',\n",
    "            jinja_data=parms_in,\n",
    "        )"
   ]
  },
  {
   "cell_type": "code",
   "execution_count": null,
   "id": "d7575e98-0164-4f4f-912d-6b6dd70d3561",
   "metadata": {},
   "outputs": [],
   "source": []
  }
 ],
 "metadata": {
  "kernelspec": {
   "display_name": "Python [conda env:miniconda3-_unison]",
   "language": "python",
   "name": "conda-env-miniconda3-_unison-py"
  },
  "language_info": {
   "codemirror_mode": {
    "name": "ipython",
    "version": 3
   },
   "file_extension": ".py",
   "mimetype": "text/x-python",
   "name": "python",
   "nbconvert_exporter": "python",
   "pygments_lexer": "ipython3",
   "version": "3.7.12"
  }
 },
 "nbformat": 4,
 "nbformat_minor": 5
}
