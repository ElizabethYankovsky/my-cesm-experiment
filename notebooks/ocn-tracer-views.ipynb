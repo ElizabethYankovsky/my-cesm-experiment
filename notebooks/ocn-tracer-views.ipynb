{
 "cells": [
  {
   "cell_type": "markdown",
   "id": "b32e55d3-d037-40b9-96ac-b2ff03536e23",
   "metadata": {},
   "source": [
    "# {{variable_id}}"
   ]
  },
  {
   "cell_type": "code",
   "execution_count": null,
   "id": "e13795c3-000f-465c-b07b-e3bb31415aef",
   "metadata": {},
   "outputs": [],
   "source": [
    "%load_ext autoreload\n",
    "%autoreload 2"
   ]
  },
  {
   "cell_type": "code",
   "execution_count": null,
   "id": "e8199a6d-1b51-453e-a34c-45ed5f88c59f",
   "metadata": {},
   "outputs": [],
   "source": [
    "import xarray as xr\n",
    "\n",
    "from dask.distributed import Client\n",
    "\n",
    "import catalog\n",
    "import util\n",
    "\n",
    "xr.set_options(keep_attrs=True)"
   ]
  },
  {
   "cell_type": "markdown",
   "id": "8e5fd23a-c09c-4fff-8d7b-d2881051ec05",
   "metadata": {},
   "source": [
    "## Parameters"
   ]
  },
  {
   "cell_type": "code",
   "execution_count": 1,
   "id": "7aba216b-6257-44cb-b711-41178010c5e9",
   "metadata": {
    "tags": [
     "parameters"
    ]
   },
   "outputs": [],
   "source": [
    "casename = 'smyle-fosi.regional.lat-range-basin.000'\n",
    "component = 'pop'\n",
    "stream = 'h'\n",
    "\n",
    "variable_id = 'TEMP'\n",
    "\n",
    "cluster_scheduler_address = None"
   ]
  },
  {
   "cell_type": "code",
   "execution_count": null,
   "id": "b29c2ce8-1aea-4c88-a488-aef634305748",
   "metadata": {},
   "outputs": [],
   "source": [
    "assert component in ['pop']\n",
    "assert stream in ['h', 'h.ecosys.nday1']"
   ]
  },
  {
   "cell_type": "markdown",
   "id": "0bc82532-c3b7-4378-b6b9-416ccd553c1b",
   "metadata": {},
   "source": [
    "## Connect to cluster"
   ]
  },
  {
   "cell_type": "code",
   "execution_count": null,
   "id": "c549c0ec-0721-4986-be5f-6c7c9e632fc1",
   "metadata": {},
   "outputs": [],
   "source": [
    "if cluster_scheduler_address is None:\n",
    "    cluster, client = util.get_ClusterClient()\n",
    "    cluster.scale(12)\n",
    "else:\n",
    "    client = Client(cluster_scheduler_address)\n",
    "client"
   ]
  },
  {
   "cell_type": "markdown",
   "id": "976ffa95-263e-4d11-bda3-0637f9d28212",
   "metadata": {},
   "source": [
    "## Load the data"
   ]
  },
  {
   "cell_type": "code",
   "execution_count": null,
   "id": "4e7e974e-99a7-42a2-8925-90e23a848edc",
   "metadata": {},
   "outputs": [],
   "source": [
    "dsets = catalog.to_dataset_dict(\n",
    "    case=casename,\n",
    "    component=component,\n",
    "    stream=stream,\n",
    ")\n",
    "dsets.keys()"
   ]
  },
  {
   "cell_type": "markdown",
   "id": "0bc1e235-6804-4bb9-bb90-bd3fcf2db1bd",
   "metadata": {},
   "source": [
    "## Compute long-term mean and plot"
   ]
  },
  {
   "cell_type": "code",
   "execution_count": null,
   "id": "c6d7e5e9-2935-42d7-8be1-7533481bac01",
   "metadata": {},
   "outputs": [],
   "source": [
    "ds = dsets[f'{casename}.{component}.{stream}']"
   ]
  },
  {
   "cell_type": "code",
   "execution_count": null,
   "id": "7abc7911-cfb2-40d7-bf8e-5b909bc8319d",
   "metadata": {},
   "outputs": [],
   "source": [
    "dt_wgt = ds.time_bound.diff('d2').squeeze()\n",
    "dt_wgt /= dt_wgt.sum()\n",
    "dt_wgt"
   ]
  },
  {
   "cell_type": "code",
   "execution_count": null,
   "id": "044ce3e1-394d-471a-a8e6-5e99ce72f087",
   "metadata": {},
   "outputs": [],
   "source": [
    "ds[variable_id].weighted(dt_wgt).mean('time').isel(z_t=0).plot()"
   ]
  }
 ],
 "metadata": {
  "kernelspec": {
   "display_name": "Python [conda env:miniconda3-_unison]",
   "language": "python",
   "name": "conda-env-miniconda3-_unison-py"
  },
  "language_info": {
   "codemirror_mode": {
    "name": "ipython",
    "version": 3
   },
   "file_extension": ".py",
   "mimetype": "text/x-python",
   "name": "python",
   "nbconvert_exporter": "python",
   "pygments_lexer": "ipython3",
   "version": "3.7.12"
  }
 },
 "nbformat": 4,
 "nbformat_minor": 5
}
